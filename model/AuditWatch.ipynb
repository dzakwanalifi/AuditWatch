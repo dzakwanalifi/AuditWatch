{
  "cells": [
    {
      "cell_type": "code",
      "execution_count": 1,
      "metadata": {
        "id": "qJtRqdRT6dQv"
      },
      "outputs": [],
      "source": [
        "import pandas as pd\n",
        "import numpy as np\n",
        "from scipy.stats import chisquare\n",
        "from scipy.spatial import distance\n",
        "from scipy.spatial.distance import euclidean\n",
        "from scipy.stats import pearsonr\n",
        "from collections import Counter\n",
        "from google.colab import drive\n",
        "from imblearn.over_sampling import SMOTE\n",
        "from sklearn.model_selection import train_test_split\n",
        "from sklearn.ensemble import VotingClassifier\n",
        "from sklearn.linear_model import LogisticRegression\n",
        "from sklearn.ensemble import RandomForestClassifier\n",
        "from xgboost import XGBClassifier\n",
        "from sklearn.cluster import KMeans\n",
        "from sklearn.cluster import DBSCAN\n",
        "from sklearn.metrics import accuracy_score, precision_score, recall_score, f1_score\n",
        "from joblib import dump\n",
        "from sklearn.feature_selection import SelectKBest, chi2\n",
        "from sklearn.metrics import confusion_matrix\n",
        "from joblib import load"
      ]
    },
    {
      "cell_type": "code",
      "execution_count": 2,
      "metadata": {
        "colab": {
          "base_uri": "https://localhost:8080/"
        },
        "id": "ZvlL6u7-tvxD",
        "outputId": "ed2ab56b-4600-4bc9-cf29-0fdc3ce4cada"
      },
      "outputs": [
        {
          "output_type": "stream",
          "name": "stdout",
          "text": [
            "Mounted at /content/drive\n"
          ]
        }
      ],
      "source": [
        "# Menghubungkan ke Google Drive\n",
        "drive.mount('/content/drive')\n",
        "\n",
        "# Menentukan path file CSV\n",
        "file_path = '/content/drive/MyDrive/PPATK/aml_data.csv'"
      ]
    },
    {
      "cell_type": "code",
      "execution_count": 3,
      "metadata": {
        "id": "U_PQevGlzQ2J"
      },
      "outputs": [],
      "source": [
        "# Membaca file CSV ke dalam DataFrame\n",
        "data = pd.read_csv(file_path)"
      ]
    },
    {
      "cell_type": "code",
      "source": [
        "time = 'Timestamp'\n",
        "sender = 'Account'\n",
        "amount = 'Amount Paid'"
      ],
      "metadata": {
        "id": "JHetphrtqUoF"
      },
      "execution_count": 4,
      "outputs": []
    },
    {
      "cell_type": "code",
      "execution_count": 5,
      "metadata": {
        "id": "GvvEJ4KXwVkp"
      },
      "outputs": [],
      "source": [
        "data = data[[time, sender, amount, 'Is Laundering']]"
      ]
    },
    {
      "cell_type": "code",
      "execution_count": 6,
      "metadata": {
        "id": "DODoFqTILT-5"
      },
      "outputs": [],
      "source": [
        "# Mengubah format Timestamp menjadi tipe data datetime\n",
        "data[time] = pd.to_datetime(data[time]).dt.date"
      ]
    },
    {
      "cell_type": "code",
      "execution_count": 7,
      "metadata": {
        "id": "Gkv53yO5VyYe"
      },
      "outputs": [],
      "source": [
        "aggregated_data = data.groupby([sender, time]).agg({\n",
        "    amount: 'sum',\n",
        "    'Is Laundering': 'max'\n",
        "}).reset_index()"
      ]
    },
    {
      "cell_type": "code",
      "execution_count": 8,
      "metadata": {
        "id": "YNwxVqNKVyPI"
      },
      "outputs": [],
      "source": [
        "# Step 2: Extract 'transaction' count by 'Account' and add it to aggregated data\n",
        "transaction_count = data.groupby([sender, time]).size().reset_index(name='transaction')\n",
        "aggregated_data = pd.merge(aggregated_data, transaction_count, on=['Account', time])"
      ]
    },
    {
      "cell_type": "code",
      "source": [
        "def calculate_digit_distribution(value):\n",
        "    first_digit = str(value)[0]\n",
        "    return int(first_digit)\n",
        "\n",
        "data['First Digit'] = data[amount].apply(calculate_digit_distribution)\n",
        "digit_distribution = data.groupby([sender, time, 'First Digit']).size().unstack(fill_value=0)\n",
        "digit_distribution = digit_distribution.div(digit_distribution.sum(axis=1), axis=0)"
      ],
      "metadata": {
        "id": "nhiqSbbd9OZX"
      },
      "execution_count": 9,
      "outputs": []
    },
    {
      "cell_type": "code",
      "source": [
        "# Add the digit distributions as new variables in aggregated data\n",
        "for digit in range(1, 10):\n",
        "    variable_name = f'{digit}_dist'\n",
        "    aggregated_data[variable_name] = digit_distribution.loc[:, digit].values"
      ],
      "metadata": {
        "id": "ZgVYNffqKRMw"
      },
      "execution_count": 10,
      "outputs": []
    },
    {
      "cell_type": "code",
      "source": [
        "# Step 4: Extract 'limit' variable based on 'Amount Paid' threshold\n",
        "aggregated_data['limit'] = (aggregated_data[amount] > 33500).astype(int)"
      ],
      "metadata": {
        "id": "SmO8PnFnK0Ry"
      },
      "execution_count": null,
      "outputs": []
    },
    {
      "cell_type": "code",
      "source": [
        "# 5. Calculate the Euclidean distance between the first digit distributions and Benford's Law\n",
        "benfords_law  = [0.301, 0.176, 0.125, 0.097, 0.079, 0.067, 0.058, 0.051, 0.046]\n",
        "\n",
        "# 5. Extract Euclidean distance from first digit distribution to Benford's Law\n",
        "for digit in range(1, 10):\n",
        "    dist_col = f'{digit}_dist'\n",
        "    benford_prob = benfords_law[digit - 1]\n",
        "    aggregated_data[f'{digit}_ed'] = np.sqrt((aggregated_data[dist_col] - benford_prob) ** 2)"
      ],
      "metadata": {
        "id": "w9I19St7K8id"
      },
      "execution_count": 11,
      "outputs": []
    },
    {
      "cell_type": "code",
      "source": [
        "# Step 6: Calculate standard deviation for each row\n",
        "for digit in range(1, 10):\n",
        "    aggregated_data[f'{digit}_sd'] = np.abs(aggregated_data[f'{digit}_dist'].fillna(0) - benfords_law[digit - 1]) / np.sqrt(benfords_law[digit - 1] * (1 - benfords_law[digit - 1]))"
      ],
      "metadata": {
        "id": "plr_Vs-cN2Qz"
      },
      "execution_count": 12,
      "outputs": []
    },
    {
      "cell_type": "code",
      "source": [
        "# Select input and output variables\n",
        "input_vars = [amount, 'transaction', '1_dist', '2_dist', '3_dist', '4_dist', '5_dist', '6_dist',\n",
        "              '7_dist', '8_dist', '9_dist', '1_ed', '2_ed', '3_ed', '4_ed', '5_ed', '6_ed', '7_ed', '8_ed', '9_ed',\n",
        "              '1_sd', '2_sd', '3_sd', '4_sd', '5_sd', '6_sd', '7_sd', '8_sd', '9_sd']\n",
        "output_var = 'Is Laundering'"
      ],
      "metadata": {
        "id": "NlZ0njdPDo9p"
      },
      "execution_count": 15,
      "outputs": []
    },
    {
      "cell_type": "code",
      "source": [
        "X = aggregated_data[input_vars]\n",
        "y = aggregated_data[output_var]"
      ],
      "metadata": {
        "id": "8z_5IZbx4AW1"
      },
      "execution_count": 16,
      "outputs": []
    },
    {
      "cell_type": "markdown",
      "source": [
        "# LEWATI INI"
      ],
      "metadata": {
        "id": "FHyl4EFR30l_"
      }
    },
    {
      "cell_type": "code",
      "source": [
        "# Perform aggregated_data balancing using SMOTE\n",
        "smote = SMOTE(random_state=42)\n",
        "X_balanced, y_balanced = smote.fit_resample(X, y)"
      ],
      "metadata": {
        "id": "xqyQJVGFNNGO"
      },
      "execution_count": null,
      "outputs": []
    },
    {
      "cell_type": "code",
      "source": [
        "# Split the data into training and test sets\n",
        "X_train, X_test, y_train, y_test = train_test_split(X_balanced, y_balanced, test_size=0.2, random_state=42)"
      ],
      "metadata": {
        "id": "w_IAgdEANfiK"
      },
      "execution_count": null,
      "outputs": []
    },
    {
      "cell_type": "code",
      "source": [
        "# Define the ensemble of models\n",
        "logreg = LogisticRegression()\n",
        "rf = RandomForestClassifier()\n",
        "xgb = XGBClassifier()"
      ],
      "metadata": {
        "id": "IfBRUaf-OGcy"
      },
      "execution_count": null,
      "outputs": []
    },
    {
      "cell_type": "code",
      "source": [
        "ensemble = VotingClassifier(estimators=[('logreg', logreg), ('rf', rf), ('xgb', xgb)])"
      ],
      "metadata": {
        "id": "tQyi2OLwOHZG"
      },
      "execution_count": null,
      "outputs": []
    },
    {
      "cell_type": "code",
      "source": [
        "# Train the ensemble model\n",
        "ensemble.fit(X_train, y_train)"
      ],
      "metadata": {
        "id": "KXnIkCOqOKL7"
      },
      "execution_count": null,
      "outputs": []
    },
    {
      "cell_type": "code",
      "source": [
        "# Make predictions on the test set\n",
        "y_pred = ensemble.predict(X_test)"
      ],
      "metadata": {
        "id": "Qw9QCN07OLUZ"
      },
      "execution_count": null,
      "outputs": []
    },
    {
      "cell_type": "code",
      "source": [
        "# Evaluate the ensemble model\n",
        "accuracy = accuracy_score(y_test, y_pred)\n",
        "precision = precision_score(y_test, y_pred)\n",
        "recall = recall_score(y_test, y_pred)\n",
        "f1 = f1_score(y_test, y_pred)"
      ],
      "metadata": {
        "id": "5N53MhFBORnY"
      },
      "execution_count": null,
      "outputs": []
    },
    {
      "cell_type": "code",
      "source": [
        "print(f\"Accuracy: {accuracy:.4f}\")\n",
        "print(f\"Precision: {precision:.4f}\")\n",
        "print(f\"Recall: {recall:.4f}\")\n",
        "print(f\"F1-score: {f1:.4f}\")"
      ],
      "metadata": {
        "id": "z8gnNBZAOSD4",
        "colab": {
          "base_uri": "https://localhost:8080/"
        },
        "outputId": "9d50b747-6460-45dd-ab52-801e624dfeb3"
      },
      "execution_count": null,
      "outputs": [
        {
          "output_type": "stream",
          "name": "stdout",
          "text": [
            "Accuracy: 0.9259\n",
            "Precision: 0.8888\n",
            "Recall: 0.9740\n",
            "F1-score: 0.9295\n"
          ]
        }
      ]
    },
    {
      "cell_type": "code",
      "source": [
        "save_path = '/content/drive/MyDrive/PPATK/ensemble_model.joblib'\n",
        "dump(ensemble, save_path)"
      ],
      "metadata": {
        "id": "bdfLJY_oserK"
      },
      "execution_count": null,
      "outputs": []
    },
    {
      "cell_type": "markdown",
      "source": [
        "# NAH SINI AJA!"
      ],
      "metadata": {
        "id": "fhtocIoq39Fu"
      }
    },
    {
      "cell_type": "code",
      "source": [
        "# Reduce the feature space using SelectKBest feature selection\n",
        "selector = SelectKBest(chi2, k=10)  # Adjust the value of 'k' as needed\n",
        "X_reduced = selector.fit_transform(X, y)"
      ],
      "metadata": {
        "id": "HO_JU_I02UHH"
      },
      "execution_count": 17,
      "outputs": []
    },
    {
      "cell_type": "code",
      "source": [
        "# Perform data balancing using SMOTE on the reduced feature space\n",
        "smote = SMOTE(random_state=42)\n",
        "X_balanced, y_balanced = smote.fit_resample(X_reduced, y)"
      ],
      "metadata": {
        "id": "0XCXZByw4Ctt"
      },
      "execution_count": 18,
      "outputs": []
    },
    {
      "cell_type": "code",
      "source": [
        "# Split the data into training and test sets\n",
        "X_train, X_test, y_train, y_test = train_test_split(X_balanced, y_balanced, test_size=0.2, random_state=42)"
      ],
      "metadata": {
        "id": "gFWWkpBK4EI5"
      },
      "execution_count": 19,
      "outputs": []
    },
    {
      "cell_type": "markdown",
      "source": [
        "# LANJUTKEN"
      ],
      "metadata": {
        "id": "Hs5KeRxUTRpf"
      }
    },
    {
      "cell_type": "code",
      "source": [
        "# Define the ensemble of models\n",
        "logreg = LogisticRegression()\n",
        "rf = RandomForestClassifier(n_jobs=-1)  # Utilize parallel processing with multiple CPU cores\n",
        "xgb = XGBClassifier(n_jobs=-1)  # Utilize parallel processing with multiple CPU cores"
      ],
      "metadata": {
        "id": "tL6FwGuz4Eya"
      },
      "execution_count": 20,
      "outputs": []
    },
    {
      "cell_type": "code",
      "source": [
        "ensemble = VotingClassifier(estimators=[('logreg', logreg), ('rf', rf), ('xgb', xgb)])"
      ],
      "metadata": {
        "id": "Mn7JHT_G4GHa"
      },
      "execution_count": 21,
      "outputs": []
    },
    {
      "cell_type": "code",
      "source": [
        "# Train the ensemble model\n",
        "ensemble.fit(X_train, y_train)"
      ],
      "metadata": {
        "colab": {
          "base_uri": "https://localhost:8080/",
          "height": 108
        },
        "id": "DC0stxAZ4HOO",
        "outputId": "8a68b968-3163-4139-9278-746b609931f0"
      },
      "execution_count": 22,
      "outputs": [
        {
          "output_type": "execute_result",
          "data": {
            "text/plain": [
              "VotingClassifier(estimators=[('logreg', LogisticRegression()),\n",
              "                             ('rf', RandomForestClassifier(n_jobs=-1)),\n",
              "                             ('xgb',\n",
              "                              XGBClassifier(base_score=None, booster=None,\n",
              "                                            callbacks=None,\n",
              "                                            colsample_bylevel=None,\n",
              "                                            colsample_bynode=None,\n",
              "                                            colsample_bytree=None,\n",
              "                                            early_stopping_rounds=None,\n",
              "                                            enable_categorical=False,\n",
              "                                            eval_metric=None,\n",
              "                                            feature_types=None, gamma=None,\n",
              "                                            gpu_id=None, grow_policy=None,\n",
              "                                            importance_type=None,\n",
              "                                            interaction_constraints=None,\n",
              "                                            learning_rate=None, max_bin=None,\n",
              "                                            max_cat_threshold=None,\n",
              "                                            max_cat_to_onehot=None,\n",
              "                                            max_delta_step=None, max_depth=None,\n",
              "                                            max_leaves=None,\n",
              "                                            min_child_weight=None, missing=nan,\n",
              "                                            monotone_constraints=None,\n",
              "                                            n_estimators=100, n_jobs=-1,\n",
              "                                            num_parallel_tree=None,\n",
              "                                            predictor=None, random_state=None, ...))])"
            ],
            "text/html": [
              "<style>#sk-container-id-1 {color: black;background-color: white;}#sk-container-id-1 pre{padding: 0;}#sk-container-id-1 div.sk-toggleable {background-color: white;}#sk-container-id-1 label.sk-toggleable__label {cursor: pointer;display: block;width: 100%;margin-bottom: 0;padding: 0.3em;box-sizing: border-box;text-align: center;}#sk-container-id-1 label.sk-toggleable__label-arrow:before {content: \"▸\";float: left;margin-right: 0.25em;color: #696969;}#sk-container-id-1 label.sk-toggleable__label-arrow:hover:before {color: black;}#sk-container-id-1 div.sk-estimator:hover label.sk-toggleable__label-arrow:before {color: black;}#sk-container-id-1 div.sk-toggleable__content {max-height: 0;max-width: 0;overflow: hidden;text-align: left;background-color: #f0f8ff;}#sk-container-id-1 div.sk-toggleable__content pre {margin: 0.2em;color: black;border-radius: 0.25em;background-color: #f0f8ff;}#sk-container-id-1 input.sk-toggleable__control:checked~div.sk-toggleable__content {max-height: 200px;max-width: 100%;overflow: auto;}#sk-container-id-1 input.sk-toggleable__control:checked~label.sk-toggleable__label-arrow:before {content: \"▾\";}#sk-container-id-1 div.sk-estimator input.sk-toggleable__control:checked~label.sk-toggleable__label {background-color: #d4ebff;}#sk-container-id-1 div.sk-label input.sk-toggleable__control:checked~label.sk-toggleable__label {background-color: #d4ebff;}#sk-container-id-1 input.sk-hidden--visually {border: 0;clip: rect(1px 1px 1px 1px);clip: rect(1px, 1px, 1px, 1px);height: 1px;margin: -1px;overflow: hidden;padding: 0;position: absolute;width: 1px;}#sk-container-id-1 div.sk-estimator {font-family: monospace;background-color: #f0f8ff;border: 1px dotted black;border-radius: 0.25em;box-sizing: border-box;margin-bottom: 0.5em;}#sk-container-id-1 div.sk-estimator:hover {background-color: #d4ebff;}#sk-container-id-1 div.sk-parallel-item::after {content: \"\";width: 100%;border-bottom: 1px solid gray;flex-grow: 1;}#sk-container-id-1 div.sk-label:hover label.sk-toggleable__label {background-color: #d4ebff;}#sk-container-id-1 div.sk-serial::before {content: \"\";position: absolute;border-left: 1px solid gray;box-sizing: border-box;top: 0;bottom: 0;left: 50%;z-index: 0;}#sk-container-id-1 div.sk-serial {display: flex;flex-direction: column;align-items: center;background-color: white;padding-right: 0.2em;padding-left: 0.2em;position: relative;}#sk-container-id-1 div.sk-item {position: relative;z-index: 1;}#sk-container-id-1 div.sk-parallel {display: flex;align-items: stretch;justify-content: center;background-color: white;position: relative;}#sk-container-id-1 div.sk-item::before, #sk-container-id-1 div.sk-parallel-item::before {content: \"\";position: absolute;border-left: 1px solid gray;box-sizing: border-box;top: 0;bottom: 0;left: 50%;z-index: -1;}#sk-container-id-1 div.sk-parallel-item {display: flex;flex-direction: column;z-index: 1;position: relative;background-color: white;}#sk-container-id-1 div.sk-parallel-item:first-child::after {align-self: flex-end;width: 50%;}#sk-container-id-1 div.sk-parallel-item:last-child::after {align-self: flex-start;width: 50%;}#sk-container-id-1 div.sk-parallel-item:only-child::after {width: 0;}#sk-container-id-1 div.sk-dashed-wrapped {border: 1px dashed gray;margin: 0 0.4em 0.5em 0.4em;box-sizing: border-box;padding-bottom: 0.4em;background-color: white;}#sk-container-id-1 div.sk-label label {font-family: monospace;font-weight: bold;display: inline-block;line-height: 1.2em;}#sk-container-id-1 div.sk-label-container {text-align: center;}#sk-container-id-1 div.sk-container {/* jupyter's `normalize.less` sets `[hidden] { display: none; }` but bootstrap.min.css set `[hidden] { display: none !important; }` so we also need the `!important` here to be able to override the default hidden behavior on the sphinx rendered scikit-learn.org. See: https://github.com/scikit-learn/scikit-learn/issues/21755 */display: inline-block !important;position: relative;}#sk-container-id-1 div.sk-text-repr-fallback {display: none;}</style><div id=\"sk-container-id-1\" class=\"sk-top-container\"><div class=\"sk-text-repr-fallback\"><pre>VotingClassifier(estimators=[(&#x27;logreg&#x27;, LogisticRegression()),\n",
              "                             (&#x27;rf&#x27;, RandomForestClassifier(n_jobs=-1)),\n",
              "                             (&#x27;xgb&#x27;,\n",
              "                              XGBClassifier(base_score=None, booster=None,\n",
              "                                            callbacks=None,\n",
              "                                            colsample_bylevel=None,\n",
              "                                            colsample_bynode=None,\n",
              "                                            colsample_bytree=None,\n",
              "                                            early_stopping_rounds=None,\n",
              "                                            enable_categorical=False,\n",
              "                                            eval_metric=None,\n",
              "                                            feature_types=None, gamma=None,\n",
              "                                            gpu_id=None, grow_policy=None,\n",
              "                                            importance_type=None,\n",
              "                                            interaction_constraints=None,\n",
              "                                            learning_rate=None, max_bin=None,\n",
              "                                            max_cat_threshold=None,\n",
              "                                            max_cat_to_onehot=None,\n",
              "                                            max_delta_step=None, max_depth=None,\n",
              "                                            max_leaves=None,\n",
              "                                            min_child_weight=None, missing=nan,\n",
              "                                            monotone_constraints=None,\n",
              "                                            n_estimators=100, n_jobs=-1,\n",
              "                                            num_parallel_tree=None,\n",
              "                                            predictor=None, random_state=None, ...))])</pre><b>In a Jupyter environment, please rerun this cell to show the HTML representation or trust the notebook. <br />On GitHub, the HTML representation is unable to render, please try loading this page with nbviewer.org.</b></div><div class=\"sk-container\" hidden><div class=\"sk-item sk-dashed-wrapped\"><div class=\"sk-label-container\"><div class=\"sk-label sk-toggleable\"><input class=\"sk-toggleable__control sk-hidden--visually\" id=\"sk-estimator-id-1\" type=\"checkbox\" ><label for=\"sk-estimator-id-1\" class=\"sk-toggleable__label sk-toggleable__label-arrow\">VotingClassifier</label><div class=\"sk-toggleable__content\"><pre>VotingClassifier(estimators=[(&#x27;logreg&#x27;, LogisticRegression()),\n",
              "                             (&#x27;rf&#x27;, RandomForestClassifier(n_jobs=-1)),\n",
              "                             (&#x27;xgb&#x27;,\n",
              "                              XGBClassifier(base_score=None, booster=None,\n",
              "                                            callbacks=None,\n",
              "                                            colsample_bylevel=None,\n",
              "                                            colsample_bynode=None,\n",
              "                                            colsample_bytree=None,\n",
              "                                            early_stopping_rounds=None,\n",
              "                                            enable_categorical=False,\n",
              "                                            eval_metric=None,\n",
              "                                            feature_types=None, gamma=None,\n",
              "                                            gpu_id=None, grow_policy=None,\n",
              "                                            importance_type=None,\n",
              "                                            interaction_constraints=None,\n",
              "                                            learning_rate=None, max_bin=None,\n",
              "                                            max_cat_threshold=None,\n",
              "                                            max_cat_to_onehot=None,\n",
              "                                            max_delta_step=None, max_depth=None,\n",
              "                                            max_leaves=None,\n",
              "                                            min_child_weight=None, missing=nan,\n",
              "                                            monotone_constraints=None,\n",
              "                                            n_estimators=100, n_jobs=-1,\n",
              "                                            num_parallel_tree=None,\n",
              "                                            predictor=None, random_state=None, ...))])</pre></div></div></div><div class=\"sk-parallel\"><div class=\"sk-parallel-item\"><div class=\"sk-item\"><div class=\"sk-label-container\"><div class=\"sk-label sk-toggleable\"><label>logreg</label></div></div><div class=\"sk-serial\"><div class=\"sk-item\"><div class=\"sk-estimator sk-toggleable\"><input class=\"sk-toggleable__control sk-hidden--visually\" id=\"sk-estimator-id-2\" type=\"checkbox\" ><label for=\"sk-estimator-id-2\" class=\"sk-toggleable__label sk-toggleable__label-arrow\">LogisticRegression</label><div class=\"sk-toggleable__content\"><pre>LogisticRegression()</pre></div></div></div></div></div></div><div class=\"sk-parallel-item\"><div class=\"sk-item\"><div class=\"sk-label-container\"><div class=\"sk-label sk-toggleable\"><label>rf</label></div></div><div class=\"sk-serial\"><div class=\"sk-item\"><div class=\"sk-estimator sk-toggleable\"><input class=\"sk-toggleable__control sk-hidden--visually\" id=\"sk-estimator-id-3\" type=\"checkbox\" ><label for=\"sk-estimator-id-3\" class=\"sk-toggleable__label sk-toggleable__label-arrow\">RandomForestClassifier</label><div class=\"sk-toggleable__content\"><pre>RandomForestClassifier(n_jobs=-1)</pre></div></div></div></div></div></div><div class=\"sk-parallel-item\"><div class=\"sk-item\"><div class=\"sk-label-container\"><div class=\"sk-label sk-toggleable\"><label>xgb</label></div></div><div class=\"sk-serial\"><div class=\"sk-item\"><div class=\"sk-estimator sk-toggleable\"><input class=\"sk-toggleable__control sk-hidden--visually\" id=\"sk-estimator-id-4\" type=\"checkbox\" ><label for=\"sk-estimator-id-4\" class=\"sk-toggleable__label sk-toggleable__label-arrow\">XGBClassifier</label><div class=\"sk-toggleable__content\"><pre>XGBClassifier(base_score=None, booster=None, callbacks=None,\n",
              "              colsample_bylevel=None, colsample_bynode=None,\n",
              "              colsample_bytree=None, early_stopping_rounds=None,\n",
              "              enable_categorical=False, eval_metric=None, feature_types=None,\n",
              "              gamma=None, gpu_id=None, grow_policy=None, importance_type=None,\n",
              "              interaction_constraints=None, learning_rate=None, max_bin=None,\n",
              "              max_cat_threshold=None, max_cat_to_onehot=None,\n",
              "              max_delta_step=None, max_depth=None, max_leaves=None,\n",
              "              min_child_weight=None, missing=nan, monotone_constraints=None,\n",
              "              n_estimators=100, n_jobs=-1, num_parallel_tree=None,\n",
              "              predictor=None, random_state=None, ...)</pre></div></div></div></div></div></div></div></div></div></div>"
            ]
          },
          "metadata": {},
          "execution_count": 22
        }
      ]
    },
    {
      "cell_type": "code",
      "source": [
        "# Make predictions on the test set\n",
        "y_pred = ensemble.predict(X_test)"
      ],
      "metadata": {
        "id": "mjotMzt84ISl"
      },
      "execution_count": 23,
      "outputs": []
    },
    {
      "cell_type": "code",
      "source": [
        "# Evaluate the ensemble model\n",
        "accuracy = accuracy_score(y_test, y_pred)\n",
        "precision = precision_score(y_test, y_pred)\n",
        "recall = recall_score(y_test, y_pred)\n",
        "f1 = f1_score(y_test, y_pred)"
      ],
      "metadata": {
        "id": "8wYzUXRD4JcI"
      },
      "execution_count": 24,
      "outputs": []
    },
    {
      "cell_type": "code",
      "source": [
        "print(f\"Accuracy: {accuracy:.4f}\")\n",
        "print(f\"Precision: {precision:.4f}\")\n",
        "print(f\"Recall: {recall:.4f}\")\n",
        "print(f\"F1-score: {f1:.4f}\")"
      ],
      "metadata": {
        "colab": {
          "base_uri": "https://localhost:8080/"
        },
        "id": "26eiU8YK4Kmb",
        "outputId": "cbd08c46-9037-49f2-9c5e-860f83d792e8"
      },
      "execution_count": 25,
      "outputs": [
        {
          "output_type": "stream",
          "name": "stdout",
          "text": [
            "Accuracy: 0.9323\n",
            "Precision: 0.8984\n",
            "Recall: 0.9753\n",
            "F1-score: 0.9353\n"
          ]
        }
      ]
    },
    {
      "cell_type": "code",
      "source": [
        "# Generate the confusion matrix\n",
        "cm = confusion_matrix(y_test, y_pred)"
      ],
      "metadata": {
        "id": "axFIXWh4rgyd"
      },
      "execution_count": 26,
      "outputs": []
    },
    {
      "cell_type": "code",
      "source": [
        "cm"
      ],
      "metadata": {
        "colab": {
          "base_uri": "https://localhost:8080/"
        },
        "id": "yivPM86CsxWy",
        "outputId": "8cf06c94-719e-4230-f9df-43edeb49420b"
      },
      "execution_count": 27,
      "outputs": [
        {
          "output_type": "execute_result",
          "data": {
            "text/plain": [
              "array([[375071,  46825],\n",
              "       [ 10461, 413825]])"
            ]
          },
          "metadata": {},
          "execution_count": 27
        }
      ]
    },
    {
      "cell_type": "code",
      "source": [
        "save_path = '/content/drive/MyDrive/PPATK/ensemble_model_5.joblib'\n",
        "dump(ensemble, save_path)"
      ],
      "metadata": {
        "colab": {
          "base_uri": "https://localhost:8080/"
        },
        "id": "OnlQkMaP4NSj",
        "outputId": "399a5610-7df9-49a2-9b1c-1c04a9690eca"
      },
      "execution_count": 28,
      "outputs": [
        {
          "output_type": "execute_result",
          "data": {
            "text/plain": [
              "['/content/drive/MyDrive/PPATK/ensemble_model_5.joblib']"
            ]
          },
          "metadata": {},
          "execution_count": 28
        }
      ]
    },
    {
      "cell_type": "code",
      "source": [
        "# Assuming you have the trained selector object named 'selector'\n",
        "dump(selector, '/content/drive/MyDrive/PPATK/selectkbest_model_3.joblib')"
      ],
      "metadata": {
        "colab": {
          "base_uri": "https://localhost:8080/"
        },
        "id": "TePFiRDbY4ap",
        "outputId": "401c5ec1-56a6-4ba0-d49c-f3678cad81d8"
      },
      "execution_count": 29,
      "outputs": [
        {
          "output_type": "execute_result",
          "data": {
            "text/plain": [
              "['/content/drive/MyDrive/PPATK/selectkbest_model_3.joblib']"
            ]
          },
          "metadata": {},
          "execution_count": 29
        }
      ]
    },
    {
      "cell_type": "markdown",
      "source": [
        "# DATA BARU INI"
      ],
      "metadata": {
        "id": "EdVzN_DKS9p9"
      }
    },
    {
      "cell_type": "code",
      "source": [
        "# Membaca file CSV ke dalam DataFrame\n",
        "data_sampel = pd.read_csv('/content/drive/MyDrive/PPATK/sampel.csv')"
      ],
      "metadata": {
        "id": "KpTRCi8VVtHk"
      },
      "execution_count": 30,
      "outputs": []
    },
    {
      "cell_type": "code",
      "source": [
        "selector_filename = '/content/drive/MyDrive/PPATK/selectkbest_model_3.joblib'\n",
        "selector = load(selector_filename)"
      ],
      "metadata": {
        "id": "DM_mXnm0ZotR"
      },
      "execution_count": 31,
      "outputs": []
    },
    {
      "cell_type": "code",
      "source": [
        "# Load the ensemble model from the file\n",
        "model_filename = '/content/drive/MyDrive/PPATK/ensemble_model_5.joblib'\n",
        "ensemble = load(model_filename)"
      ],
      "metadata": {
        "id": "2dpgVB8kQx-y"
      },
      "execution_count": 32,
      "outputs": []
    },
    {
      "cell_type": "code",
      "source": [
        "time = 'Timestamp'\n",
        "sender = 'Account'\n",
        "amount = 'Amount Paid'"
      ],
      "metadata": {
        "id": "FdC39VQBV90K"
      },
      "execution_count": 33,
      "outputs": []
    },
    {
      "cell_type": "code",
      "source": [
        "def preprocess_data(data, time_variable, account_variable, amount_variable):\n",
        "    time = time_variable\n",
        "    sender = account_variable\n",
        "    amount = amount_variable\n",
        "    \n",
        "    # Mengubah format Timestamp menjadi tipe data datetime\n",
        "    data[time] = pd.to_datetime(data[time]).dt.date\n",
        "    \n",
        "    # Aggregated data by 'Account' and day 'Timestamp' variables\n",
        "    aggregated_data = data.groupby([sender, time]).agg({\n",
        "        amount: 'sum',\n",
        "        'Is Laundering': 'max'\n",
        "    }).reset_index()\n",
        "    \n",
        "    # Extract 'transaction' count by 'Account' and add it to aggregated data\n",
        "    transaction_count = data.groupby([sender, time]).size().reset_index(name='transaction')\n",
        "    aggregated_data = pd.merge(aggregated_data, transaction_count, on=[sender, time])\n",
        "    \n",
        "    def calculate_digit_distribution(value):\n",
        "        first_digit = str(value)[0]\n",
        "        return int(first_digit)\n",
        "    \n",
        "    data['First Digit'] = data[amount].apply(calculate_digit_distribution)\n",
        "    digit_distribution = data.groupby([sender, time, 'First Digit']).size().unstack(fill_value=0)\n",
        "    digit_distribution = digit_distribution.div(digit_distribution.sum(axis=1), axis=0)\n",
        "    \n",
        "    # Add the digit distributions as new variables in aggregated data\n",
        "    for digit in range(1, 10):\n",
        "        variable_name = f'{digit}_dist'\n",
        "        aggregated_data[variable_name] = digit_distribution.loc[:, digit].values\n",
        "    \n",
        "    # Calculate the Euclidean distance between the first digit distributions and Benford's Law\n",
        "    benfords_law  = [0.301, 0.176, 0.125, 0.097, 0.079, 0.067, 0.058, 0.051, 0.046]\n",
        "    \n",
        "    # Extract Euclidean distance from first digit distribution to Benford's Law\n",
        "    for digit in range(1, 10):\n",
        "        dist_col = f'{digit}_dist'\n",
        "        benford_prob = benfords_law[digit - 1]\n",
        "        aggregated_data[f'{digit}_ed'] = np.sqrt((aggregated_data[dist_col] - benford_prob) ** 2)\n",
        "    \n",
        "    # Calculate standard deviation for each row\n",
        "    for digit in range(1, 10):\n",
        "        aggregated_data[f'{digit}_sd'] = np.abs(aggregated_data[f'{digit}_dist'].fillna(0) - benfords_law[digit - 1]) / np.sqrt(benfords_law[digit - 1] * (1 - benfords_law[digit - 1]))\n",
        "    \n",
        "    input_vars = [amount, 'transaction', '1_dist', '2_dist', '3_dist', '4_dist', '5_dist', '6_dist',\n",
        "                  '7_dist', '8_dist', '9_dist', '1_ed', '2_ed', '3_ed', '4_ed', '5_ed', '6_ed', '7_ed', '8_ed', '9_ed',\n",
        "                  '1_sd', '2_sd', '3_sd', '4_sd', '5_sd', '6_sd', '7_sd', '8_sd', '9_sd']\n",
        "    X = aggregated_data[input_vars]\n",
        "    \n",
        "    # Reduce the feature space using SelectKBest feature selection\n",
        "    X_reduced = selector.transform(X)\n",
        "    \n",
        "    return X_reduced, aggregated_data"
      ],
      "metadata": {
        "id": "ffEbKxE-UdSK"
      },
      "execution_count": 36,
      "outputs": []
    },
    {
      "cell_type": "code",
      "source": [
        "preprocessed_data, aggregated_data = preprocess_data(data_sampel, time, sender, amount)"
      ],
      "metadata": {
        "id": "j7C2Wb6ZWjVD"
      },
      "execution_count": 37,
      "outputs": []
    },
    {
      "cell_type": "code",
      "source": [
        "y_pred = ensemble.predict(preprocessed_data)"
      ],
      "metadata": {
        "id": "sTlfdoygTeEi"
      },
      "execution_count": 38,
      "outputs": []
    },
    {
      "cell_type": "code",
      "source": [
        "merged_result = pd.concat([aggregated_data, pd.DataFrame({'y_pred': y_pred})], axis=1)\n",
        "filtered_result = merged_result[merged_result['y_pred'] == 1]"
      ],
      "metadata": {
        "id": "pNeIAvFTWfzV"
      },
      "execution_count": 39,
      "outputs": []
    },
    {
      "cell_type": "code",
      "source": [
        "result = filtered_result.groupby(sender).agg({'Timestamp': list}).reset_index()\n",
        "result.columns = ['Account', 'Tanggal Pencucian Uang']"
      ],
      "metadata": {
        "id": "wTSj78wXj9Lh"
      },
      "execution_count": 40,
      "outputs": []
    },
    {
      "cell_type": "code",
      "source": [
        "result"
      ],
      "metadata": {
        "id": "1JA00Lzim24j"
      },
      "execution_count": null,
      "outputs": []
    },
    {
      "cell_type": "code",
      "source": [],
      "metadata": {
        "id": "Ry33Ly1lrOja"
      },
      "execution_count": null,
      "outputs": []
    }
  ],
  "metadata": {
    "colab": {
      "provenance": [],
      "gpuType": "T4",
      "collapsed_sections": [
        "FHyl4EFR30l_"
      ]
    },
    "kernelspec": {
      "display_name": "Python 3",
      "name": "python3"
    },
    "language_info": {
      "name": "python"
    },
    "accelerator": "GPU",
    "gpuClass": "standard"
  },
  "nbformat": 4,
  "nbformat_minor": 0
}